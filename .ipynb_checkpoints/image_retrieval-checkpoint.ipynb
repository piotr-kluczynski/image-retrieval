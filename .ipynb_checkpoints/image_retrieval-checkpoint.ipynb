{
 "cells": [
  {
   "cell_type": "markdown",
   "id": "70446243-44e7-496c-bb33-6be4d2e714e4",
   "metadata": {},
   "source": [
    "<h2><b>Importing libraries</b></h2>"
   ]
  },
  {
   "cell_type": "code",
   "execution_count": null,
   "id": "0b0e7307-00a5-4080-ba28-b9c5539503af",
   "metadata": {},
   "outputs": [],
   "source": [
    "import chromadb\n",
    "import cv2\n",
    "import base64\n",
    "import getpass\n",
    "\n",
    "from chromadb.utils.embedding_functions import OpenCLIPEmbeddingFunction\n",
    "from chromadb.utils.data_loaders import ImageLoader\n",
    "from openai import OpenAI"
   ]
  },
  {
   "cell_type": "markdown",
   "id": "75ff3cbf-83b0-4ac9-9fc4-fc77ef51491c",
   "metadata": {},
   "source": [
    "<h2><b>Importing example image</b></h2>"
   ]
  },
  {
   "cell_type": "code",
   "execution_count": null,
   "id": "fc04d039-80c1-4a76-a767-bd4584332595",
   "metadata": {},
   "outputs": [],
   "source": [
    "image = cv2.imread('example.png')\n",
    "\n",
    "height, width, _ = image.shape"
   ]
  },
  {
   "cell_type": "markdown",
   "id": "217cca2b-2e96-4da4-a3c4-5f26ec025ca5",
   "metadata": {},
   "source": [
    "<h2><b>Initializing chromaDB collection</b></h2>"
   ]
  },
  {
   "cell_type": "code",
   "execution_count": null,
   "id": "1fa4de97-faaa-4268-918e-ff46d7b404eb",
   "metadata": {
    "scrolled": true
   },
   "outputs": [],
   "source": [
    "chroma_client = chromadb.Client()\n",
    "\n",
    "embedding_function = OpenCLIPEmbeddingFunction()\n",
    "data_loader = ImageLoader()\n",
    "\n",
    "collection = chroma_client.create_collection(\n",
    "    name=\"image_collection\",\n",
    "    embedding_function=embedding_function,\n",
    "    data_loader=data_loader\n",
    ")"
   ]
  },
  {
   "cell_type": "markdown",
   "id": "47c5cef2-2f0a-40ad-b6ea-b1339539ea10",
   "metadata": {},
   "source": [
    "<h2><b>Preparing images</b></h2>"
   ]
  },
  {
   "cell_type": "code",
   "execution_count": null,
   "id": "a270dddc-f065-41cb-8576-02935265f64d",
   "metadata": {},
   "outputs": [],
   "source": [
    "images = []\n",
    "images_mapping = {}\n",
    "\n",
    "images_num = 4\n",
    "\n",
    "# Preparing pairs id-path (path is relative)\n",
    "for i in range(images_num):\n",
    "    images_mapping[\"id\" + str(i)] = r\"images\\image\" + str(i+1) + \".png\"\n",
    "\n",
    "# Preparing images\n",
    "for i in range(images_num):\n",
    "    image = cv2.imread(r\"images\\image\" + str(i+1) + \".png\")\n",
    "    images.append(image)"
   ]
  },
  {
   "cell_type": "markdown",
   "id": "d4c985f8-c920-486e-920f-385d43409e03",
   "metadata": {},
   "source": [
    "<h2><b>Adding data to the collection</b></h2>"
   ]
  },
  {
   "cell_type": "code",
   "execution_count": null,
   "id": "d0fe2bf0-8df1-4d72-b0d0-6d8012885a1e",
   "metadata": {},
   "outputs": [],
   "source": [
    "collection.add(\n",
    "    ids=[\"id\" + str(i) for i in range(images_num)],\n",
    "    images=[images[i] for i in range(images_num)],\n",
    "    metadatas=[{\"chapter\": \"6\", \"topic\": \"Famill a Frenn\", \"page\": \"83\"} for i in range(images_num)]\n",
    ")"
   ]
  },
  {
   "cell_type": "markdown",
   "id": "220605bf-ee67-4876-9c86-92b81aaee0df",
   "metadata": {},
   "source": [
    "<h2><b>Model setup</b></h2>"
   ]
  },
  {
   "cell_type": "code",
   "execution_count": null,
   "id": "c36746f8-f350-438c-9f09-6e992d612771",
   "metadata": {},
   "outputs": [],
   "source": [
    "key = getpass.getpass(\"Enter API key for OpenAI:\")\n",
    "client = OpenAI(api_key=key)\n",
    "\n",
    "Model = \"gpt-4o-mini\"\n",
    "Max_tokens = 500"
   ]
  },
  {
   "cell_type": "markdown",
   "id": "5d1d70c2-be8b-454b-8a66-f44238c0cd7c",
   "metadata": {},
   "source": [
    "<h2><b>Tool function & description</b></h2>"
   ]
  },
  {
   "cell_type": "code",
   "execution_count": null,
   "id": "23d798eb-7996-4cae-bbfc-9066b48bb223",
   "metadata": {},
   "outputs": [],
   "source": [
    "retrieve_tool = {\n",
    "    \"type\": \"function\",\n",
    "    \"function\": {\n",
    "        \"name\": \"retrieve_image\",\n",
    "        \"description\": \"Retrieve the image from the textbook, best matching given description.\",\n",
    "        \"parameters\": {\n",
    "            \"type\": \"object\",\n",
    "            \"properties\": {\n",
    "                \"image_description\": {\n",
    "                    \"type\": \"string\",\n",
    "                    \"description\": \"Text description of the image from the textbook.\"\n",
    "                },\n",
    "                \"chapter\": {\n",
    "                    \"type\": \"number\",\n",
    "                    \"description\": \"Number of the chapter in which the image is placed.\"\n",
    "                },\n",
    "                \"topic\": {\n",
    "                    \"type\": \"string\",\n",
    "                    \"description\": \"Name of the topic in which the image is placed.\"\n",
    "                },\n",
    "                \"page\": {\n",
    "                    \"type\": \"number\",\n",
    "                    \"description\": \"Number of the page in which the image is placed.\"\n",
    "                }\n",
    "            },\n",
    "            \"required\": [\"image_description\", \"chapter\", \"topic\", \"page\"],\n",
    "            \"additionalProperties\": False\n",
    "        },\n",
    "        \"strict\": True\n",
    "    }\n",
    "}"
   ]
  },
  {
   "cell_type": "code",
   "execution_count": null,
   "id": "0bff2377-4c54-4e51-a18c-b0cedefbd63e",
   "metadata": {},
   "outputs": [],
   "source": [
    "def retrieve_image(image_description, chapter, topic, page):\n",
    "    result_id = collection.query(\n",
    "        query_texts=[image_description],\n",
    "        n_results=1,\n",
    "        where={\n",
    "            \"$and\": [\n",
    "                {\"chapter\": {\"$eq\": chapter}},\n",
    "                {\"topic\": {\"$eq\": topic}},\n",
    "                {\"page\": {\"$eq\": page}}\n",
    "            ]\n",
    "        }\n",
    "    )\n",
    "\n",
    "    if not result_id[\"ids\"][0]:\n",
    "        return None\n",
    "\n",
    "    result_path = images_mapping.get(result_id[\"ids\"][0][0])\n",
    "    result_image = cv2.imread(result_path)\n",
    "    \n",
    "    return result_image"
   ]
  },
  {
   "cell_type": "markdown",
   "id": "fd2fa768-35f2-4f29-8fc9-5469e36455ce",
   "metadata": {},
   "source": [
    "<h2><b>Encoding the input data for the GPT model</b></h2>"
   ]
  },
  {
   "cell_type": "code",
   "execution_count": null,
   "id": "f63ad459-31a6-4248-9926-b0d170e79ebb",
   "metadata": {},
   "outputs": [],
   "source": [
    "_, buffer = cv2.imencode(\".jpg\", image)\n",
    "\n",
    "image_bytes = buffer.tobytes()\n",
    "\n",
    "image_base64 = base64.b64encode(image_bytes).decode(\"utf-8\")"
   ]
  },
  {
   "cell_type": "markdown",
   "id": "889e488c-b84e-4e48-bde8-b1d52a56e019",
   "metadata": {},
   "source": [
    "<h2><b>Initial system message & one-shot example</b></h2>"
   ]
  },
  {
   "cell_type": "code",
   "execution_count": null,
   "id": "b6e3431a-0ffe-455b-9f4e-a779d708ff5d",
   "metadata": {},
   "outputs": [],
   "source": [
    "System_message = {\n",
    "    \"role\": \"developer\",\n",
    "    \"content\": [\n",
    "        {\n",
    "            \"type\": \"text\",\n",
    "            \"text\": \"You're the tutor chatbot, which carries on a conversation with a human student about the lesson about the topic \\\"Famill a Frenn\\\", on the page 83, from the chapter 6 of the Luxembourgish textbook.\\\n",
    "                     Your task is to provide the best education to the human student.\\\n",
    "                     If you decide that during the conversation the picture from the book would be beneficial to the student's learning process, use the retrieve_image tool and describe the image you want to retrieve from it.\\\n",
    "                     You'll be provided with the image of the currently discuissed page from the textbook for learning Luxembourgish.\"\n",
    "        }\n",
    "    ]\n",
    "}"
   ]
  },
  {
   "cell_type": "code",
   "execution_count": null,
   "id": "51ab366f-96ce-408c-af7b-413f168ce2b1",
   "metadata": {},
   "outputs": [],
   "source": [
    "example_image = cv2.imread(\"example.jpg\")\n",
    "\n",
    "_, buffer = cv2.imencode(\".jpg\", example_image)\n",
    "\n",
    "example_image_bytes = buffer.tobytes()\n",
    "\n",
    "example_image_base64 = base64.b64encode(example_image_bytes).decode(\"utf-8\")"
   ]
  },
  {
   "cell_type": "code",
   "execution_count": null,
   "id": "4366090a-2716-49e8-8823-9111713f83fc",
   "metadata": {},
   "outputs": [],
   "source": [
    "Example_message = {\n",
    "    \"role\": \"user\",\n",
    "    \"content\": [\n",
    "        {\n",
    "            \"type\": \"text\",\n",
    "            \"text\": \"I am currently working on the third exercise \\\"Wie schreift d'Annonce.\\\", but I have a problem with determining what kind of announcement does announcement number 3 represent.\\\n",
    "                     Provide me with both textual explanation and the image I am describing.\"\n",
    "        },\n",
    "        {\n",
    "            \"type\": \"image_url\",\n",
    "            \"image_url\": { \"url\": f\"data:image/jpeg;base64,{example_image_base64}\" }\n",
    "        }\n",
    "    ]\n",
    "}"
   ]
  },
  {
   "cell_type": "code",
   "execution_count": null,
   "id": "4990cfc4-0890-4c99-a57f-a4114d9286fe",
   "metadata": {},
   "outputs": [],
   "source": [
    "Example_response = {\n",
    "    \"role\": \"assistant\",\n",
    "    \"content\": \"In announcement number 3, the text reads:\\\n",
    "                \\\"Léif Bomi Christine!\\\n",
    "                Mir gratuléieren dir ganz häerzlech fir deng 70 Joer a wënschen dir alles Guddes! Deng Kanner, Enkelkanner an déi ganz Famill.\\\"\\\n",
    "                Explanation:\\\n",
    "                The phrase \\\"70 Joer\\\" indicates that it is a birthday announcement.\\\n",
    "                The term \\\"Bomi\\\" (which means grandmother) shows that the announcement is dedicated to an elderly family member.\\\n",
    "                The senders of the message are \\\"Deng Kanner, Enkelkanner an déi ganz Famill\\\" (your children, grandchildren, and the whole family), which confirms that this is a family celebration.\\\n",
    "                Answer to the Exercise:\\\n",
    "                For Exercise 3 (\\\"Wie schreift d'Annonce?\\\"), you need to match the announcement to its sender. Based on the text, the correct answer is:\\\n",
    "                \\\"dem Christine seng Kanner an Enkelkanner\\\" (Christine's children and grandchildren).\\\n",
    "                Let me know if you need further clarification!\"\n",
    "}\n",
    "\n",
    "Example_function = {\n",
    "    \"role\": \"function\",\n",
    "    \"name\": \"retrieve_image\",\n",
    "    \"content\": \"{\\\"image_description\\\": \\\"An elderly woman with short white hair and glasses, celebrating her 70th birthday.\\\", \\\"chapter\\\": 6, \\\"topic\\\": \\\"\\\", \\\"page\\\": 83}\",\n",
    "}"
   ]
  },
  {
   "cell_type": "markdown",
   "id": "d63ad9a7-bdca-46f8-b9cf-3540445c6517",
   "metadata": {},
   "source": [
    "<h2><b>Calling the GPT to answer the student question</b></h2>"
   ]
  },
  {
   "cell_type": "code",
   "execution_count": null,
   "id": "6019f698-4082-4f60-8f4b-f42f2cb04af3",
   "metadata": {},
   "outputs": [],
   "source": [
    "User_message = {\n",
    "    \"role\": \"user\",\n",
    "    \"content\": [\n",
    "        {\n",
    "            \"type\": \"text\",\n",
    "            \"text\": \"I am currently working on the second exercise \\\"Wat feire si? Kraizt un.\\\", but I have a problem with determining what kind of announcement does announcement number 4 represent.\\\n",
    "                     Provide me with both textual explanation and the image I am describing.\"\n",
    "        },\n",
    "        {\n",
    "            \"type\": \"image_url\",\n",
    "            \"image_url\": {\n",
    "                \"url\": f\"data:image/jpeg;base64,{image_base64}\"\n",
    "            }\n",
    "        }\n",
    "    ]\n",
    "}\n",
    "\n",
    "response = client.chat.completions.create(\n",
    "    model = Model,\n",
    "    messages = [System_message,\n",
    "                Example_message, Example_response, Example_function,\n",
    "                User_message],\n",
    "    max_tokens = Max_tokens,\n",
    "    tools = [retrieve_tool],\n",
    ")\n",
    "\n",
    "print(response.choices[0].message.content)"
   ]
  },
  {
   "cell_type": "markdown",
   "id": "38324e41-2af9-48dd-aea2-798c154920c5",
   "metadata": {},
   "source": [
    "<h2><b>Capturing the tools calls and saving the results</b></h2>"
   ]
  },
  {
   "cell_type": "code",
   "execution_count": null,
   "id": "d45890ae-e28d-4c66-ade9-3b673868aaca",
   "metadata": {},
   "outputs": [],
   "source": [
    "if response.choices[0].message.tool_calls is not None:\n",
    "    tool_call = response.choices[0].message.tool_calls[0]\n",
    "\n",
    "    args = json.loads(tool_call.function.arguments)\n",
    "\n",
    "    image = retrieve_image(args[\"image_description\"], str(args[\"chapter\"]), args[\"topic\"], str(args[\"page\"]))\n",
    "\n",
    "    if image is not None:\n",
    "        cv2.imshow(\"retrieved_image\", image)\n",
    "        \n",
    "        cv2.waitKey(0)\n",
    "        cv2.destroyAllWindows()"
   ]
  },
  {
   "cell_type": "code",
   "execution_count": null,
   "id": "9db76d3a-2240-4ec2-9e27-dc7778a3f200",
   "metadata": {},
   "outputs": [],
   "source": [
    "image = retrieve_image(\"An elderly woman with short white hair and glasses, celebrating her 70th birthday.\", str(6), \"Famill a Frenn\", str(83))\n",
    "\n",
    "if image is not None:\n",
    "    cv2.imshow(\"retrieved_image\", image)\n",
    "        \n",
    "    cv2.waitKey(0)\n",
    "    cv2.destroyAllWindows()"
   ]
  }
 ],
 "metadata": {
  "kernelspec": {
   "display_name": "Python 3 (ipykernel)",
   "language": "python",
   "name": "python3"
  },
  "language_info": {
   "codemirror_mode": {
    "name": "ipython",
    "version": 3
   },
   "file_extension": ".py",
   "mimetype": "text/x-python",
   "name": "python",
   "nbconvert_exporter": "python",
   "pygments_lexer": "ipython3",
   "version": "3.13.6"
  }
 },
 "nbformat": 4,
 "nbformat_minor": 5
}
